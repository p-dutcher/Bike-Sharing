{
 "cells": [
  {
   "cell_type": "markdown",
   "id": "f942b480-733a-4cbf-b862-502c9fba541d",
   "metadata": {},
   "source": [
    "## 01. Import Libraries"
   ]
  },
  {
   "cell_type": "code",
   "execution_count": 10,
   "id": "94d04cfd-3d42-4770-b694-7af4efe39324",
   "metadata": {},
   "outputs": [],
   "source": [
    "# import libraries\n",
    "\n",
    "import pandas as pd\n",
    "import time\n",
    "import selenium\n",
    "from selenium import webdriver\n",
    "from webdriver_manager.chrome import ChromeDriverManager\n",
    "from selenium.webdriver.common.by import By\n",
    "from selenium.webdriver.chrome.service import Service\n",
    "from selenium.webdriver.chrome.options import Options\n",
    "import matplotlib.pyplot as plt\n",
    "import os\n",
    "import logging\n",
    "import requests\n",
    "import bs4\n",
    "from bs4 import BeautifulSoup\n",
    "import requests\n"
   ]
  },
  {
   "cell_type": "markdown",
   "id": "774898df-18df-4667-acb7-e3167744df05",
   "metadata": {},
   "source": [
    "## 02. Set Up ChromeDriver"
   ]
  },
  {
   "cell_type": "code",
   "execution_count": 27,
   "id": "7c295c9f-8607-432a-a9be-9bfd6e9686d1",
   "metadata": {},
   "outputs": [],
   "source": [
    "# Setup chrome options\n",
    "\n",
    "chrome_options = Options()\n",
    "chrome_options.add_argument(\"--headless\") # Ensure GUI is off\n",
    "chrome_options.add_argument(\"--no-sandbox\")"
   ]
  },
  {
   "cell_type": "code",
   "execution_count": 29,
   "id": "9cfbcd18-febc-4e5f-bb03-97ebbec0f3e8",
   "metadata": {},
   "outputs": [],
   "source": [
    "# set up driver:\n",
    "\n",
    "service = Service(ChromeDriverManager().install())\n",
    "driver = webdriver.Chrome(service=service)"
   ]
  },
  {
   "cell_type": "markdown",
   "id": "48ba45d0-b22e-45ed-b157-858c2fbec8d7",
   "metadata": {},
   "source": [
    "## 03. Scrape Article for Top NYC Landmarks / Tourist Attractions"
   ]
  },
  {
   "cell_type": "code",
   "execution_count": 32,
   "id": "ebaa27c9-cef7-41c9-9371-1c40ac3ea0d5",
   "metadata": {},
   "outputs": [],
   "source": [
    "# project URL: Places to Visit in New York City\n",
    "\n",
    "# (https://www.thrillophilia.com/destinations/new-york-city/places-to-visit)"
   ]
  },
  {
   "cell_type": "code",
   "execution_count": 34,
   "id": "f5ac166d-286c-4360-90a7-4dd6e261110a",
   "metadata": {},
   "outputs": [],
   "source": [
    "# as we are creating a list, selenium will suffice here\n",
    "# get page contents:\n",
    "\n",
    "list_url = \"https://www.thrillophilia.com/destinations/new-york-city/places-to-visit\"\n",
    "driver.get(list_url)"
   ]
  },
  {
   "cell_type": "code",
   "execution_count": 38,
   "id": "b758135e-170b-460f-9035-bcd3f6054716",
   "metadata": {},
   "outputs": [],
   "source": [
    "# elements of interest will be the countries themselves, \n",
    "# after inspecting, the div class can be \"left-side\",\n",
    "\n",
    "#div class = \"left-side\"\n",
    "\n",
    "#h3 class = \"h3 title\""
   ]
  },
  {
   "cell_type": "code",
   "execution_count": 49,
   "id": "ed236972-7cc2-42d0-8bc1-9dc48b7dbdb0",
   "metadata": {},
   "outputs": [],
   "source": [
    "# use find element to create a list of the attractions\n",
    "\n",
    "attractions_elem = driver.find_elements(by = By.CLASS_NAME, value = 'left-side')"
   ]
  },
  {
   "cell_type": "code",
   "execution_count": 57,
   "id": "49b0138f-95e9-48fa-90ed-3808fc32b41f",
   "metadata": {},
   "outputs": [
    {
     "data": {
      "text/plain": [
       "'01\\nStatue Of Liberty'"
      ]
     },
     "execution_count": 57,
     "metadata": {},
     "output_type": "execute_result"
    }
   ],
   "source": [
    "# checking to see if it worked:\n",
    "\n",
    "attractions_elem[0].text"
   ]
  },
  {
   "cell_type": "code",
   "execution_count": 66,
   "id": "b2e1110d-cd18-44ac-bdda-cdb0c6f26293",
   "metadata": {},
   "outputs": [
    {
     "data": {
      "text/plain": [
       "'02\\nTimes Square'"
      ]
     },
     "execution_count": 66,
     "metadata": {},
     "output_type": "execute_result"
    }
   ],
   "source": [
    "attractions_elem[1].text"
   ]
  },
  {
   "cell_type": "code",
   "execution_count": 68,
   "id": "4abf1e40-03db-48bf-b385-4a8d8586275d",
   "metadata": {},
   "outputs": [
    {
     "data": {
      "text/plain": [
       "'25\\nNew York Harbor'"
      ]
     },
     "execution_count": 68,
     "metadata": {},
     "output_type": "execute_result"
    }
   ],
   "source": [
    "# so it appears this actually worked!\n",
    "\n",
    "attractions_elem[24].text"
   ]
  },
  {
   "cell_type": "code",
   "execution_count": 72,
   "id": "5b7603c6-893f-4e20-ac4e-3e1122671f5b",
   "metadata": {
    "scrolled": true
   },
   "outputs": [
    {
     "ename": "IndexError",
     "evalue": "list index out of range",
     "output_type": "error",
     "traceback": [
      "\u001b[0;31m---------------------------------------------------------------------------\u001b[0m",
      "\u001b[0;31mIndexError\u001b[0m                                Traceback (most recent call last)",
      "Cell \u001b[0;32mIn[72], line 4\u001b[0m\n\u001b[1;32m      1\u001b[0m \u001b[38;5;66;03m# as our list is only 25 attractions long, we should expect that there will be no item in the 25 index!\u001b[39;00m\n\u001b[1;32m      2\u001b[0m \u001b[38;5;66;03m# if we recieve an error, we know that we've only scraped the landmarks/attractions!\u001b[39;00m\n\u001b[0;32m----> 4\u001b[0m \u001b[43mattractions_elem\u001b[49m\u001b[43m[\u001b[49m\u001b[38;5;241;43m25\u001b[39;49m\u001b[43m]\u001b[49m\u001b[38;5;241m.\u001b[39mtext\n",
      "\u001b[0;31mIndexError\u001b[0m: list index out of range"
     ]
    }
   ],
   "source": [
    "# as our list is only 25 attractions long, we should expect that there will be no item in the 25 index!\n",
    "# if we recieve an error, we know that we've only scraped the landmarks/attractions!\n",
    "\n",
    "attractions_elem[25].text"
   ]
  },
  {
   "cell_type": "code",
   "execution_count": 88,
   "id": "c44bc3f8-ac60-4754-b235-c41a24825e63",
   "metadata": {},
   "outputs": [
    {
     "data": {
      "text/plain": [
       "['01\\nStatue Of Liberty',\n",
       " '02\\nTimes Square',\n",
       " '03\\nCentral Park',\n",
       " '04\\nMetropolitan Museum Of Art',\n",
       " '05\\nBroadway And The Theater District',\n",
       " '06\\nThe Museum Of Modern Art',\n",
       " '07\\nWorld Trade Center',\n",
       " '08\\nRockefeller Center',\n",
       " '09\\nEmpire State Building',\n",
       " '10\\n9/11 Memorial And Museum',\n",
       " '11\\nHigh Line',\n",
       " '12\\nBrooklyn Bridge',\n",
       " '13\\nFifth Avenue',\n",
       " '14\\nOne World Observatory',\n",
       " '15\\nWall Street',\n",
       " '16\\nNew York Public Library',\n",
       " '17\\nSt. Patricks Cathedral',\n",
       " '18\\nSolomon R. Guggenheim Museum',\n",
       " '19\\nBryant Park',\n",
       " '20\\nCarnegie Hall',\n",
       " '21\\nAmerican Museum Of Natural History',\n",
       " '22\\nWashington Square Park',\n",
       " '23\\nRadio City Music Hall',\n",
       " '24\\nLiberty Island',\n",
       " '25\\nNew York Harbor']"
      ]
     },
     "execution_count": 88,
     "metadata": {},
     "output_type": "execute_result"
    }
   ],
   "source": [
    "# now that we know that worked, let's transform this into a workable list:\n",
    "\n",
    "attractions_list = [element.text for element in attractions_elem]\n",
    "    \n",
    "attractions_list"
   ]
  },
  {
   "cell_type": "code",
   "execution_count": 100,
   "id": "c901c4c9-56bf-485b-a4e3-9b85d3dcd4e9",
   "metadata": {
    "scrolled": true
   },
   "outputs": [
    {
     "data": {
      "text/plain": [
       "['Statue Of Liberty',\n",
       " 'Times Square',\n",
       " 'Central Park',\n",
       " 'Metropolitan Museum Of Art',\n",
       " 'Broadway And The Theater District',\n",
       " 'The Museum Of Modern Art',\n",
       " 'World Trade Center',\n",
       " 'Rockefeller Center',\n",
       " 'Empire State Building',\n",
       " '9/11 Memorial And Museum',\n",
       " 'High Line',\n",
       " 'Brooklyn Bridge',\n",
       " 'Fifth Avenue',\n",
       " 'One World Observatory',\n",
       " 'Wall Street',\n",
       " 'New York Public Library',\n",
       " 'St. Patricks Cathedral',\n",
       " 'Solomon R. Guggenheim Museum',\n",
       " 'Bryant Park',\n",
       " 'Carnegie Hall',\n",
       " 'American Museum Of Natural History',\n",
       " 'Washington Square Park',\n",
       " 'Radio City Music Hall',\n",
       " 'Liberty Island',\n",
       " 'New York Harbor']"
      ]
     },
     "execution_count": 100,
     "metadata": {},
     "output_type": "execute_result"
    }
   ],
   "source": [
    "# perfect, now let's clean this up a bit!\n",
    "# splitting at /n \n",
    "# by using an index of [1], we are only keeping the items AFTER the split, in this case the name\n",
    "\n",
    "attractions = [item.split('\\n')[1] for item in attractions_list]\n",
    "attractions"
   ]
  },
  {
   "cell_type": "code",
   "execution_count": 106,
   "id": "02b54428-517b-4c3f-8c1a-8c5581a2785a",
   "metadata": {},
   "outputs": [],
   "source": [
    "# now we have a list of attractions. \n",
    "# I am going to add a lat/lng column here then manually populate those values\n",
    "# this will possibly be used as an additional filter for Kepler\n",
    "# will likely use this to demonstrate rider activity in relation to landmarks!"
   ]
  },
  {
   "cell_type": "code",
   "execution_count": 119,
   "id": "97c4f36a-f75f-4683-a048-556c956fe7fb",
   "metadata": {
    "scrolled": true
   },
   "outputs": [
    {
     "data": {
      "text/html": [
       "<div>\n",
       "<style scoped>\n",
       "    .dataframe tbody tr th:only-of-type {\n",
       "        vertical-align: middle;\n",
       "    }\n",
       "\n",
       "    .dataframe tbody tr th {\n",
       "        vertical-align: top;\n",
       "    }\n",
       "\n",
       "    .dataframe thead th {\n",
       "        text-align: right;\n",
       "    }\n",
       "</style>\n",
       "<table border=\"1\" class=\"dataframe\">\n",
       "  <thead>\n",
       "    <tr style=\"text-align: right;\">\n",
       "      <th></th>\n",
       "      <th>attraction</th>\n",
       "    </tr>\n",
       "  </thead>\n",
       "  <tbody>\n",
       "    <tr>\n",
       "      <th>0</th>\n",
       "      <td>Statue Of Liberty</td>\n",
       "    </tr>\n",
       "    <tr>\n",
       "      <th>1</th>\n",
       "      <td>Times Square</td>\n",
       "    </tr>\n",
       "    <tr>\n",
       "      <th>2</th>\n",
       "      <td>Central Park</td>\n",
       "    </tr>\n",
       "    <tr>\n",
       "      <th>3</th>\n",
       "      <td>Metropolitan Museum Of Art</td>\n",
       "    </tr>\n",
       "    <tr>\n",
       "      <th>4</th>\n",
       "      <td>Broadway And The Theater District</td>\n",
       "    </tr>\n",
       "    <tr>\n",
       "      <th>5</th>\n",
       "      <td>The Museum Of Modern Art</td>\n",
       "    </tr>\n",
       "    <tr>\n",
       "      <th>6</th>\n",
       "      <td>World Trade Center</td>\n",
       "    </tr>\n",
       "    <tr>\n",
       "      <th>7</th>\n",
       "      <td>Rockefeller Center</td>\n",
       "    </tr>\n",
       "    <tr>\n",
       "      <th>8</th>\n",
       "      <td>Empire State Building</td>\n",
       "    </tr>\n",
       "    <tr>\n",
       "      <th>9</th>\n",
       "      <td>9/11 Memorial And Museum</td>\n",
       "    </tr>\n",
       "    <tr>\n",
       "      <th>10</th>\n",
       "      <td>High Line</td>\n",
       "    </tr>\n",
       "    <tr>\n",
       "      <th>11</th>\n",
       "      <td>Brooklyn Bridge</td>\n",
       "    </tr>\n",
       "    <tr>\n",
       "      <th>12</th>\n",
       "      <td>Fifth Avenue</td>\n",
       "    </tr>\n",
       "    <tr>\n",
       "      <th>13</th>\n",
       "      <td>One World Observatory</td>\n",
       "    </tr>\n",
       "    <tr>\n",
       "      <th>14</th>\n",
       "      <td>Wall Street</td>\n",
       "    </tr>\n",
       "    <tr>\n",
       "      <th>15</th>\n",
       "      <td>New York Public Library</td>\n",
       "    </tr>\n",
       "    <tr>\n",
       "      <th>16</th>\n",
       "      <td>St. Patricks Cathedral</td>\n",
       "    </tr>\n",
       "    <tr>\n",
       "      <th>17</th>\n",
       "      <td>Solomon R. Guggenheim Museum</td>\n",
       "    </tr>\n",
       "    <tr>\n",
       "      <th>18</th>\n",
       "      <td>Bryant Park</td>\n",
       "    </tr>\n",
       "    <tr>\n",
       "      <th>19</th>\n",
       "      <td>Carnegie Hall</td>\n",
       "    </tr>\n",
       "    <tr>\n",
       "      <th>20</th>\n",
       "      <td>American Museum Of Natural History</td>\n",
       "    </tr>\n",
       "    <tr>\n",
       "      <th>21</th>\n",
       "      <td>Washington Square Park</td>\n",
       "    </tr>\n",
       "    <tr>\n",
       "      <th>22</th>\n",
       "      <td>Radio City Music Hall</td>\n",
       "    </tr>\n",
       "    <tr>\n",
       "      <th>23</th>\n",
       "      <td>Liberty Island</td>\n",
       "    </tr>\n",
       "    <tr>\n",
       "      <th>24</th>\n",
       "      <td>New York Harbor</td>\n",
       "    </tr>\n",
       "  </tbody>\n",
       "</table>\n",
       "</div>"
      ],
      "text/plain": [
       "                            attraction\n",
       "0                    Statue Of Liberty\n",
       "1                         Times Square\n",
       "2                         Central Park\n",
       "3           Metropolitan Museum Of Art\n",
       "4    Broadway And The Theater District\n",
       "5             The Museum Of Modern Art\n",
       "6                   World Trade Center\n",
       "7                   Rockefeller Center\n",
       "8                Empire State Building\n",
       "9             9/11 Memorial And Museum\n",
       "10                           High Line\n",
       "11                     Brooklyn Bridge\n",
       "12                        Fifth Avenue\n",
       "13               One World Observatory\n",
       "14                         Wall Street\n",
       "15             New York Public Library\n",
       "16              St. Patricks Cathedral\n",
       "17        Solomon R. Guggenheim Museum\n",
       "18                         Bryant Park\n",
       "19                       Carnegie Hall\n",
       "20  American Museum Of Natural History\n",
       "21              Washington Square Park\n",
       "22               Radio City Music Hall\n",
       "23                      Liberty Island\n",
       "24                     New York Harbor"
      ]
     },
     "execution_count": 119,
     "metadata": {},
     "output_type": "execute_result"
    }
   ],
   "source": [
    "attractions_df = pd.DataFrame(attractions, columns = ['attraction'])\n",
    "attractions_df"
   ]
  },
  {
   "cell_type": "code",
   "execution_count": 121,
   "id": "ea02c87f-ce5c-413a-bb7c-06380db79f9e",
   "metadata": {
    "scrolled": true
   },
   "outputs": [
    {
     "data": {
      "text/html": [
       "<div>\n",
       "<style scoped>\n",
       "    .dataframe tbody tr th:only-of-type {\n",
       "        vertical-align: middle;\n",
       "    }\n",
       "\n",
       "    .dataframe tbody tr th {\n",
       "        vertical-align: top;\n",
       "    }\n",
       "\n",
       "    .dataframe thead th {\n",
       "        text-align: right;\n",
       "    }\n",
       "</style>\n",
       "<table border=\"1\" class=\"dataframe\">\n",
       "  <thead>\n",
       "    <tr style=\"text-align: right;\">\n",
       "      <th></th>\n",
       "      <th>attraction</th>\n",
       "      <th>lat</th>\n",
       "      <th>lng</th>\n",
       "    </tr>\n",
       "  </thead>\n",
       "  <tbody>\n",
       "    <tr>\n",
       "      <th>0</th>\n",
       "      <td>Statue Of Liberty</td>\n",
       "      <td></td>\n",
       "      <td></td>\n",
       "    </tr>\n",
       "    <tr>\n",
       "      <th>1</th>\n",
       "      <td>Times Square</td>\n",
       "      <td></td>\n",
       "      <td></td>\n",
       "    </tr>\n",
       "    <tr>\n",
       "      <th>2</th>\n",
       "      <td>Central Park</td>\n",
       "      <td></td>\n",
       "      <td></td>\n",
       "    </tr>\n",
       "    <tr>\n",
       "      <th>3</th>\n",
       "      <td>Metropolitan Museum Of Art</td>\n",
       "      <td></td>\n",
       "      <td></td>\n",
       "    </tr>\n",
       "    <tr>\n",
       "      <th>4</th>\n",
       "      <td>Broadway And The Theater District</td>\n",
       "      <td></td>\n",
       "      <td></td>\n",
       "    </tr>\n",
       "    <tr>\n",
       "      <th>5</th>\n",
       "      <td>The Museum Of Modern Art</td>\n",
       "      <td></td>\n",
       "      <td></td>\n",
       "    </tr>\n",
       "    <tr>\n",
       "      <th>6</th>\n",
       "      <td>World Trade Center</td>\n",
       "      <td></td>\n",
       "      <td></td>\n",
       "    </tr>\n",
       "    <tr>\n",
       "      <th>7</th>\n",
       "      <td>Rockefeller Center</td>\n",
       "      <td></td>\n",
       "      <td></td>\n",
       "    </tr>\n",
       "    <tr>\n",
       "      <th>8</th>\n",
       "      <td>Empire State Building</td>\n",
       "      <td></td>\n",
       "      <td></td>\n",
       "    </tr>\n",
       "    <tr>\n",
       "      <th>9</th>\n",
       "      <td>9/11 Memorial And Museum</td>\n",
       "      <td></td>\n",
       "      <td></td>\n",
       "    </tr>\n",
       "    <tr>\n",
       "      <th>10</th>\n",
       "      <td>High Line</td>\n",
       "      <td></td>\n",
       "      <td></td>\n",
       "    </tr>\n",
       "    <tr>\n",
       "      <th>11</th>\n",
       "      <td>Brooklyn Bridge</td>\n",
       "      <td></td>\n",
       "      <td></td>\n",
       "    </tr>\n",
       "    <tr>\n",
       "      <th>12</th>\n",
       "      <td>Fifth Avenue</td>\n",
       "      <td></td>\n",
       "      <td></td>\n",
       "    </tr>\n",
       "    <tr>\n",
       "      <th>13</th>\n",
       "      <td>One World Observatory</td>\n",
       "      <td></td>\n",
       "      <td></td>\n",
       "    </tr>\n",
       "    <tr>\n",
       "      <th>14</th>\n",
       "      <td>Wall Street</td>\n",
       "      <td></td>\n",
       "      <td></td>\n",
       "    </tr>\n",
       "    <tr>\n",
       "      <th>15</th>\n",
       "      <td>New York Public Library</td>\n",
       "      <td></td>\n",
       "      <td></td>\n",
       "    </tr>\n",
       "    <tr>\n",
       "      <th>16</th>\n",
       "      <td>St. Patricks Cathedral</td>\n",
       "      <td></td>\n",
       "      <td></td>\n",
       "    </tr>\n",
       "    <tr>\n",
       "      <th>17</th>\n",
       "      <td>Solomon R. Guggenheim Museum</td>\n",
       "      <td></td>\n",
       "      <td></td>\n",
       "    </tr>\n",
       "    <tr>\n",
       "      <th>18</th>\n",
       "      <td>Bryant Park</td>\n",
       "      <td></td>\n",
       "      <td></td>\n",
       "    </tr>\n",
       "    <tr>\n",
       "      <th>19</th>\n",
       "      <td>Carnegie Hall</td>\n",
       "      <td></td>\n",
       "      <td></td>\n",
       "    </tr>\n",
       "    <tr>\n",
       "      <th>20</th>\n",
       "      <td>American Museum Of Natural History</td>\n",
       "      <td></td>\n",
       "      <td></td>\n",
       "    </tr>\n",
       "    <tr>\n",
       "      <th>21</th>\n",
       "      <td>Washington Square Park</td>\n",
       "      <td></td>\n",
       "      <td></td>\n",
       "    </tr>\n",
       "    <tr>\n",
       "      <th>22</th>\n",
       "      <td>Radio City Music Hall</td>\n",
       "      <td></td>\n",
       "      <td></td>\n",
       "    </tr>\n",
       "    <tr>\n",
       "      <th>23</th>\n",
       "      <td>Liberty Island</td>\n",
       "      <td></td>\n",
       "      <td></td>\n",
       "    </tr>\n",
       "    <tr>\n",
       "      <th>24</th>\n",
       "      <td>New York Harbor</td>\n",
       "      <td></td>\n",
       "      <td></td>\n",
       "    </tr>\n",
       "  </tbody>\n",
       "</table>\n",
       "</div>"
      ],
      "text/plain": [
       "                            attraction lat lng\n",
       "0                    Statue Of Liberty        \n",
       "1                         Times Square        \n",
       "2                         Central Park        \n",
       "3           Metropolitan Museum Of Art        \n",
       "4    Broadway And The Theater District        \n",
       "5             The Museum Of Modern Art        \n",
       "6                   World Trade Center        \n",
       "7                   Rockefeller Center        \n",
       "8                Empire State Building        \n",
       "9             9/11 Memorial And Museum        \n",
       "10                           High Line        \n",
       "11                     Brooklyn Bridge        \n",
       "12                        Fifth Avenue        \n",
       "13               One World Observatory        \n",
       "14                         Wall Street        \n",
       "15             New York Public Library        \n",
       "16              St. Patricks Cathedral        \n",
       "17        Solomon R. Guggenheim Museum        \n",
       "18                         Bryant Park        \n",
       "19                       Carnegie Hall        \n",
       "20  American Museum Of Natural History        \n",
       "21              Washington Square Park        \n",
       "22               Radio City Music Hall        \n",
       "23                      Liberty Island        \n",
       "24                     New York Harbor        "
      ]
     },
     "execution_count": 121,
     "metadata": {},
     "output_type": "execute_result"
    }
   ],
   "source": [
    "# now to add our lat & lng columns before exporting to .csv to hand populate the latitude and longitude\n",
    "\n",
    "attractions_df['lat'] = ''\n",
    "attractions_df['lng'] = ''\n",
    "\n",
    "attractions_df"
   ]
  },
  {
   "cell_type": "code",
   "execution_count": 124,
   "id": "141d1eda-ae92-4c83-8125-0dbb85be469c",
   "metadata": {},
   "outputs": [],
   "source": [
    "# cool! exporting this, then going to add these by hand\n",
    "\n",
    "attractions_df.to_csv('attractions_scraped.csv')"
   ]
  },
  {
   "cell_type": "code",
   "execution_count": null,
   "id": "f811a106-3bab-4a2a-80ad-29a30c0959a7",
   "metadata": {},
   "outputs": [],
   "source": []
  }
 ],
 "metadata": {
  "kernelspec": {
   "display_name": "Python [conda env:Bike-Sharing]",
   "language": "python",
   "name": "conda-env-Bike-Sharing-py"
  },
  "language_info": {
   "codemirror_mode": {
    "name": "ipython",
    "version": 3
   },
   "file_extension": ".py",
   "mimetype": "text/x-python",
   "name": "python",
   "nbconvert_exporter": "python",
   "pygments_lexer": "ipython3",
   "version": "3.12.5"
  }
 },
 "nbformat": 4,
 "nbformat_minor": 5
}
