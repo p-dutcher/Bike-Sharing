{
 "cells": [
  {
   "cell_type": "markdown",
   "id": "2fee8c1f-a39c-4978-a69d-eb9550aff1b8",
   "metadata": {},
   "source": [
    "## 01. Import Libraries"
   ]
  },
  {
   "cell_type": "code",
   "execution_count": 2,
   "id": "d33b936c-928b-4575-bb89-92ee6d95b065",
   "metadata": {},
   "outputs": [],
   "source": [
    "# import libraries:\n",
    "\n",
    "import pandas as pd\n",
    "import os\n",
    "from keplergl import KeplerGl\n",
    "from pyproj import CRS\n",
    "import numpy as np\n",
    "from matplotlib import pyplot as plt"
   ]
  },
  {
   "cell_type": "markdown",
   "id": "453201ec-dbb3-458d-8889-58de66b7b716",
   "metadata": {},
   "source": [
    "## 02. Import Data:"
   ]
  },
  {
   "cell_type": "code",
   "execution_count": 5,
   "id": "cb839cb5-f66a-41a9-a22e-6c9921075f05",
   "metadata": {},
   "outputs": [
    {
     "name": "stderr",
     "output_type": "stream",
     "text": [
      "/var/folders/02/_ydtglj578xfqwjs1hm49rhc0000gn/T/ipykernel_4997/831939132.py:3: DtypeWarning: Columns (6,8) have mixed types. Specify dtype option on import or set low_memory=False.\n",
      "  df = pd.read_csv('/Users/piperdutcher/Documents/Data-Visualizations/Bike-Sharing/Data/chronological_w_ride_counts.csv', index_col = 0)\n"
     ]
    }
   ],
   "source": [
    "# importing our most recent data set:\n",
    "\n",
    "df = pd.read_csv('/Users/piperdutcher/Documents/Data-Visualizations/Bike-Sharing/Data/chronological_w_ride_counts.csv', index_col = 0)"
   ]
  },
  {
   "cell_type": "code",
   "execution_count": 7,
   "id": "7c273da8-bbbc-4e54-8f1b-e8f1f329003c",
   "metadata": {},
   "outputs": [
    {
     "data": {
      "text/html": [
       "<div>\n",
       "<style scoped>\n",
       "    .dataframe tbody tr th:only-of-type {\n",
       "        vertical-align: middle;\n",
       "    }\n",
       "\n",
       "    .dataframe tbody tr th {\n",
       "        vertical-align: top;\n",
       "    }\n",
       "\n",
       "    .dataframe thead th {\n",
       "        text-align: right;\n",
       "    }\n",
       "</style>\n",
       "<table border=\"1\" class=\"dataframe\">\n",
       "  <thead>\n",
       "    <tr style=\"text-align: right;\">\n",
       "      <th></th>\n",
       "      <th>ride_id</th>\n",
       "      <th>rideable_type</th>\n",
       "      <th>started_at</th>\n",
       "      <th>ended_at</th>\n",
       "      <th>start_station_name</th>\n",
       "      <th>start_station_id</th>\n",
       "      <th>end_station_name</th>\n",
       "      <th>end_station_id</th>\n",
       "      <th>start_lat</th>\n",
       "      <th>start_lng</th>\n",
       "      <th>end_lat</th>\n",
       "      <th>end_lng</th>\n",
       "      <th>member_casual</th>\n",
       "      <th>date</th>\n",
       "      <th>average_temp</th>\n",
       "      <th>trip_length_minutes</th>\n",
       "      <th>daily_ride_count</th>\n",
       "    </tr>\n",
       "  </thead>\n",
       "  <tbody>\n",
       "    <tr>\n",
       "      <th>0</th>\n",
       "      <td>3369D016821ACD0A</td>\n",
       "      <td>classic_bike</td>\n",
       "      <td>2022-01-01 09:55:25.013</td>\n",
       "      <td>2022-01-01 10:05:47.093</td>\n",
       "      <td>Lafayette St &amp; E 8 St</td>\n",
       "      <td>5788.13</td>\n",
       "      <td>8 Ave &amp; W 16 St</td>\n",
       "      <td>6072.11</td>\n",
       "      <td>40.730207</td>\n",
       "      <td>-73.991026</td>\n",
       "      <td>40.740983</td>\n",
       "      <td>-74.001702</td>\n",
       "      <td>casual</td>\n",
       "      <td>2022-01-01</td>\n",
       "      <td>11.6</td>\n",
       "      <td>10.368000</td>\n",
       "      <td>5105</td>\n",
       "    </tr>\n",
       "    <tr>\n",
       "      <th>1</th>\n",
       "      <td>0617BD2A38E149CF</td>\n",
       "      <td>electric_bike</td>\n",
       "      <td>2022-01-01 15:10:00.630</td>\n",
       "      <td>2022-01-01 15:18:29.885</td>\n",
       "      <td>Frederick Douglass Blvd &amp; W 117 St</td>\n",
       "      <td>7688.12</td>\n",
       "      <td>Park Ave &amp; E 124 St</td>\n",
       "      <td>7682.01</td>\n",
       "      <td>40.805159</td>\n",
       "      <td>-73.954692</td>\n",
       "      <td>40.804555</td>\n",
       "      <td>-73.939686</td>\n",
       "      <td>casual</td>\n",
       "      <td>2022-01-01</td>\n",
       "      <td>11.6</td>\n",
       "      <td>8.487583</td>\n",
       "      <td>5105</td>\n",
       "    </tr>\n",
       "    <tr>\n",
       "      <th>2</th>\n",
       "      <td>040D9CEB9A11C469</td>\n",
       "      <td>electric_bike</td>\n",
       "      <td>2022-01-01 02:35:34.345</td>\n",
       "      <td>2022-01-01 02:58:21.676</td>\n",
       "      <td>W 42 St &amp; 6 Ave</td>\n",
       "      <td>6517.08</td>\n",
       "      <td>W 100 St &amp; Broadway</td>\n",
       "      <td>7580.01</td>\n",
       "      <td>40.754920</td>\n",
       "      <td>-73.984550</td>\n",
       "      <td>40.797372</td>\n",
       "      <td>-73.970412</td>\n",
       "      <td>member</td>\n",
       "      <td>2022-01-01</td>\n",
       "      <td>11.6</td>\n",
       "      <td>22.788850</td>\n",
       "      <td>5105</td>\n",
       "    </tr>\n",
       "    <tr>\n",
       "      <th>3</th>\n",
       "      <td>7E01F3FA7BAC8F02</td>\n",
       "      <td>classic_bike</td>\n",
       "      <td>2022-01-01 15:29:24.789</td>\n",
       "      <td>2022-01-01 15:40:11.693</td>\n",
       "      <td>1 Ave &amp; E 16 St</td>\n",
       "      <td>5779.08</td>\n",
       "      <td>Hudson St &amp; W 13 St</td>\n",
       "      <td>6115.06</td>\n",
       "      <td>40.732219</td>\n",
       "      <td>-73.981656</td>\n",
       "      <td>40.740057</td>\n",
       "      <td>-74.005274</td>\n",
       "      <td>member</td>\n",
       "      <td>2022-01-01</td>\n",
       "      <td>11.6</td>\n",
       "      <td>10.781733</td>\n",
       "      <td>5105</td>\n",
       "    </tr>\n",
       "    <tr>\n",
       "      <th>4</th>\n",
       "      <td>5FBAD09F5F32B2E4</td>\n",
       "      <td>electric_bike</td>\n",
       "      <td>2022-01-01 08:38:24.623</td>\n",
       "      <td>2022-01-01 08:48:09.812</td>\n",
       "      <td>W 59 St &amp; 10 Ave</td>\n",
       "      <td>7023.04</td>\n",
       "      <td>West End Ave &amp; W 94 St</td>\n",
       "      <td>7524.09</td>\n",
       "      <td>40.770513</td>\n",
       "      <td>-73.988038</td>\n",
       "      <td>40.794165</td>\n",
       "      <td>-73.974124</td>\n",
       "      <td>member</td>\n",
       "      <td>2022-01-01</td>\n",
       "      <td>11.6</td>\n",
       "      <td>9.753150</td>\n",
       "      <td>5105</td>\n",
       "    </tr>\n",
       "  </tbody>\n",
       "</table>\n",
       "</div>"
      ],
      "text/plain": [
       "            ride_id  rideable_type               started_at  \\\n",
       "0  3369D016821ACD0A   classic_bike  2022-01-01 09:55:25.013   \n",
       "1  0617BD2A38E149CF  electric_bike  2022-01-01 15:10:00.630   \n",
       "2  040D9CEB9A11C469  electric_bike  2022-01-01 02:35:34.345   \n",
       "3  7E01F3FA7BAC8F02   classic_bike  2022-01-01 15:29:24.789   \n",
       "4  5FBAD09F5F32B2E4  electric_bike  2022-01-01 08:38:24.623   \n",
       "\n",
       "                  ended_at                  start_station_name  \\\n",
       "0  2022-01-01 10:05:47.093               Lafayette St & E 8 St   \n",
       "1  2022-01-01 15:18:29.885  Frederick Douglass Blvd & W 117 St   \n",
       "2  2022-01-01 02:58:21.676                     W 42 St & 6 Ave   \n",
       "3  2022-01-01 15:40:11.693                     1 Ave & E 16 St   \n",
       "4  2022-01-01 08:48:09.812                    W 59 St & 10 Ave   \n",
       "\n",
       "  start_station_id        end_station_name end_station_id  start_lat  \\\n",
       "0          5788.13         8 Ave & W 16 St        6072.11  40.730207   \n",
       "1          7688.12     Park Ave & E 124 St        7682.01  40.805159   \n",
       "2          6517.08     W 100 St & Broadway        7580.01  40.754920   \n",
       "3          5779.08     Hudson St & W 13 St        6115.06  40.732219   \n",
       "4          7023.04  West End Ave & W 94 St        7524.09  40.770513   \n",
       "\n",
       "   start_lng    end_lat    end_lng member_casual        date  average_temp  \\\n",
       "0 -73.991026  40.740983 -74.001702        casual  2022-01-01          11.6   \n",
       "1 -73.954692  40.804555 -73.939686        casual  2022-01-01          11.6   \n",
       "2 -73.984550  40.797372 -73.970412        member  2022-01-01          11.6   \n",
       "3 -73.981656  40.740057 -74.005274        member  2022-01-01          11.6   \n",
       "4 -73.988038  40.794165 -73.974124        member  2022-01-01          11.6   \n",
       "\n",
       "   trip_length_minutes  daily_ride_count  \n",
       "0            10.368000              5105  \n",
       "1             8.487583              5105  \n",
       "2            22.788850              5105  \n",
       "3            10.781733              5105  \n",
       "4             9.753150              5105  "
      ]
     },
     "execution_count": 7,
     "metadata": {},
     "output_type": "execute_result"
    }
   ],
   "source": [
    "df.head()"
   ]
  },
  {
   "cell_type": "code",
   "execution_count": 9,
   "id": "645a6c11-c684-4b03-9323-2aa54dd8a9b5",
   "metadata": {},
   "outputs": [
    {
     "data": {
      "text/plain": [
       "trip_length_minutes\n",
       "4.664800     22\n",
       "5.247417     22\n",
       "3.759783     22\n",
       "5.628167     22\n",
       "5.269300     22\n",
       "             ..\n",
       "38.210117     1\n",
       "50.982900     1\n",
       "18.023250     1\n",
       "33.203867     1\n",
       "34.156983     1\n",
       "Name: count, Length: 2152864, dtype: int64"
      ]
     },
     "execution_count": 9,
     "metadata": {},
     "output_type": "execute_result"
    }
   ],
   "source": [
    "df['trip_length_minutes'].value_counts()"
   ]
  },
  {
   "cell_type": "code",
   "execution_count": 11,
   "id": "38e0ecfb-5280-4392-8745-4780542977bd",
   "metadata": {},
   "outputs": [
    {
     "data": {
      "text/plain": [
       "(7441508, 17)"
      ]
     },
     "execution_count": 11,
     "metadata": {},
     "output_type": "execute_result"
    }
   ],
   "source": [
    "df.shape"
   ]
  },
  {
   "cell_type": "markdown",
   "id": "f8cb0867-e77c-4d78-95c6-a107538c5687",
   "metadata": {},
   "source": [
    "## 03. Analysis"
   ]
  },
  {
   "cell_type": "code",
   "execution_count": 14,
   "id": "f6902d50-7b01-43e2-9ca3-c6d4b722824a",
   "metadata": {},
   "outputs": [
    {
     "data": {
      "text/html": [
       "<div>\n",
       "<style scoped>\n",
       "    .dataframe tbody tr th:only-of-type {\n",
       "        vertical-align: middle;\n",
       "    }\n",
       "\n",
       "    .dataframe tbody tr th {\n",
       "        vertical-align: top;\n",
       "    }\n",
       "\n",
       "    .dataframe thead th {\n",
       "        text-align: right;\n",
       "    }\n",
       "</style>\n",
       "<table border=\"1\" class=\"dataframe\">\n",
       "  <thead>\n",
       "    <tr style=\"text-align: right;\">\n",
       "      <th></th>\n",
       "      <th>start_station_name</th>\n",
       "      <th>end_station_name</th>\n",
       "      <th>path_count</th>\n",
       "    </tr>\n",
       "  </thead>\n",
       "  <tbody>\n",
       "    <tr>\n",
       "      <th>0</th>\n",
       "      <td>1 Ave &amp; E 110 St</td>\n",
       "      <td>1 Ave &amp; E 110 St</td>\n",
       "      <td>201</td>\n",
       "    </tr>\n",
       "    <tr>\n",
       "      <th>1</th>\n",
       "      <td>1 Ave &amp; E 110 St</td>\n",
       "      <td>1 Ave &amp; E 18 St</td>\n",
       "      <td>1</td>\n",
       "    </tr>\n",
       "    <tr>\n",
       "      <th>2</th>\n",
       "      <td>1 Ave &amp; E 110 St</td>\n",
       "      <td>1 Ave &amp; E 30 St</td>\n",
       "      <td>2</td>\n",
       "    </tr>\n",
       "    <tr>\n",
       "      <th>3</th>\n",
       "      <td>1 Ave &amp; E 110 St</td>\n",
       "      <td>1 Ave &amp; E 44 St</td>\n",
       "      <td>5</td>\n",
       "    </tr>\n",
       "    <tr>\n",
       "      <th>4</th>\n",
       "      <td>1 Ave &amp; E 110 St</td>\n",
       "      <td>1 Ave &amp; E 62 St</td>\n",
       "      <td>7</td>\n",
       "    </tr>\n",
       "    <tr>\n",
       "      <th>...</th>\n",
       "      <td>...</td>\n",
       "      <td>...</td>\n",
       "      <td>...</td>\n",
       "    </tr>\n",
       "    <tr>\n",
       "      <th>664511</th>\n",
       "      <td>Yankee Ferry Terminal</td>\n",
       "      <td>Vesey Pl &amp; River Terrace</td>\n",
       "      <td>1</td>\n",
       "    </tr>\n",
       "    <tr>\n",
       "      <th>664512</th>\n",
       "      <td>Yankee Ferry Terminal</td>\n",
       "      <td>Water St &amp;  Fletcher St</td>\n",
       "      <td>3</td>\n",
       "    </tr>\n",
       "    <tr>\n",
       "      <th>664513</th>\n",
       "      <td>Yankee Ferry Terminal</td>\n",
       "      <td>West St &amp; Chambers St</td>\n",
       "      <td>2</td>\n",
       "    </tr>\n",
       "    <tr>\n",
       "      <th>664514</th>\n",
       "      <td>Yankee Ferry Terminal</td>\n",
       "      <td>West St &amp; Liberty St</td>\n",
       "      <td>2</td>\n",
       "    </tr>\n",
       "    <tr>\n",
       "      <th>664515</th>\n",
       "      <td>Yankee Ferry Terminal</td>\n",
       "      <td>Yankee Ferry Terminal</td>\n",
       "      <td>1399</td>\n",
       "    </tr>\n",
       "  </tbody>\n",
       "</table>\n",
       "<p>664516 rows × 3 columns</p>\n",
       "</div>"
      ],
      "text/plain": [
       "           start_station_name          end_station_name  path_count\n",
       "0            1 Ave & E 110 St          1 Ave & E 110 St         201\n",
       "1            1 Ave & E 110 St           1 Ave & E 18 St           1\n",
       "2            1 Ave & E 110 St           1 Ave & E 30 St           2\n",
       "3            1 Ave & E 110 St           1 Ave & E 44 St           5\n",
       "4            1 Ave & E 110 St           1 Ave & E 62 St           7\n",
       "...                       ...                       ...         ...\n",
       "664511  Yankee Ferry Terminal  Vesey Pl & River Terrace           1\n",
       "664512  Yankee Ferry Terminal   Water St &  Fletcher St           3\n",
       "664513  Yankee Ferry Terminal     West St & Chambers St           2\n",
       "664514  Yankee Ferry Terminal      West St & Liberty St           2\n",
       "664515  Yankee Ferry Terminal     Yankee Ferry Terminal        1399\n",
       "\n",
       "[664516 rows x 3 columns]"
      ]
     },
     "execution_count": 14,
     "metadata": {},
     "output_type": "execute_result"
    }
   ],
   "source": [
    "# creating a new dataframe to see which ride paths are the most popular.\n",
    "# first step is to create the new dataframe, then group by starting and ending stations\n",
    "# finally, creating a new count column with a value of one to allow us to begin the count :)\n",
    "\n",
    "\n",
    "df['path_count'] = 1\n",
    "df_rides = df.groupby(['start_station_name', 'end_station_name'])['path_count'].count().reset_index()\n",
    "\n",
    "df_rides"
   ]
  },
  {
   "cell_type": "code",
   "execution_count": 16,
   "id": "16669a84-1a8c-4419-814a-f7b9ccb82c8a",
   "metadata": {},
   "outputs": [],
   "source": [
    "# exporting this for future use!\n",
    "\n",
    "df_rides.to_csv('/Users/piperdutcher/Documents/Data-Visualizations/Bike-Sharing/Data/most_popular_ride_paths.csv')"
   ]
  },
  {
   "cell_type": "code",
   "execution_count": 18,
   "id": "b3a9ff28-fc96-4ae4-8416-b18a316e8898",
   "metadata": {},
   "outputs": [
    {
     "name": "stdout",
     "output_type": "stream",
     "text": [
      "7441508\n"
     ]
    }
   ],
   "source": [
    "# checking to make sure the sum of all path_count is equivalent to the above df size (891137) to ensure all rides have been tracked!\n",
    "\n",
    "print(df_rides['path_count'].sum())"
   ]
  },
  {
   "cell_type": "code",
   "execution_count": 20,
   "id": "7d94f95f-ccbe-4742-87ec-5bc2755f1996",
   "metadata": {},
   "outputs": [
    {
     "data": {
      "text/plain": [
       "count    664516.000000\n",
       "mean         11.198388\n",
       "std          30.051404\n",
       "min           1.000000\n",
       "25%           1.000000\n",
       "50%           3.000000\n",
       "75%           9.000000\n",
       "max        2991.000000\n",
       "Name: path_count, dtype: float64"
      ]
     },
     "execution_count": 20,
     "metadata": {},
     "output_type": "execute_result"
    }
   ],
   "source": [
    "df_rides['path_count'].describe()"
   ]
  },
  {
   "cell_type": "code",
   "execution_count": 22,
   "id": "4ec23063-d6ad-4d29-862f-ce159b1daf8b",
   "metadata": {},
   "outputs": [],
   "source": [
    "# looks good! we can proceed with creating our map of most popular rides!"
   ]
  },
  {
   "cell_type": "code",
   "execution_count": null,
   "id": "6f709fa0-abe4-4a4e-9cc8-5d8594e2ab3a",
   "metadata": {},
   "outputs": [],
   "source": []
  }
 ],
 "metadata": {
  "kernelspec": {
   "display_name": "Python [conda env:Bike-Sharing]",
   "language": "python",
   "name": "conda-env-Bike-Sharing-py"
  },
  "language_info": {
   "codemirror_mode": {
    "name": "ipython",
    "version": 3
   },
   "file_extension": ".py",
   "mimetype": "text/x-python",
   "name": "python",
   "nbconvert_exporter": "python",
   "pygments_lexer": "ipython3",
   "version": "3.12.5"
  }
 },
 "nbformat": 4,
 "nbformat_minor": 5
}
